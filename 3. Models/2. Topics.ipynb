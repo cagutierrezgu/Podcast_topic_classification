{
  "cells": [
    {
      "cell_type": "markdown",
      "metadata": {
        "id": "view-in-github",
        "colab_type": "text"
      },
      "source": [
        "<a href=\"https://colab.research.google.com/github/cagutierrezgu/My_Portfolio/blob/main/Podcast%20topic%20classification/Models/Topics.ipynb\" target=\"_parent\"><img src=\"https://colab.research.google.com/assets/colab-badge.svg\" alt=\"Open In Colab\"/></a>"
      ]
    },
    {
      "cell_type": "markdown",
      "id": "284aa036",
      "metadata": {
        "id": "284aa036"
      },
      "source": [
        "### Topic models\n",
        "\n",
        "#### Latent Semantic Analysis\n",
        "\n",
        "Además de los modelos de agrupamiento, al estudiarse datos sin etiquetas los modelos de tópicos son de gran importancia, así pueden descubrirse temas ocultos dentro de textos que en principio estaban catalogados como de un solo tema en específico. Uno de los modelos a utilizar sobre el conjunto de datos es el *Latent Semantic Analysis* (LSA), para lo cual usamos **`sklearn.decomposition.TruncatedSVD`**:"
      ]
    },
    {
      "cell_type": "code",
      "execution_count": null,
      "id": "acc53089",
      "metadata": {
        "id": "acc53089",
        "outputId": "8e977e87-a3d1-4c7a-df16-d476fa5ecfdb"
      },
      "outputs": [
        {
          "data": {
            "text/html": [
              "<style>#sk-container-id-2 {color: black;background-color: white;}#sk-container-id-2 pre{padding: 0;}#sk-container-id-2 div.sk-toggleable {background-color: white;}#sk-container-id-2 label.sk-toggleable__label {cursor: pointer;display: block;width: 100%;margin-bottom: 0;padding: 0.3em;box-sizing: border-box;text-align: center;}#sk-container-id-2 label.sk-toggleable__label-arrow:before {content: \"▸\";float: left;margin-right: 0.25em;color: #696969;}#sk-container-id-2 label.sk-toggleable__label-arrow:hover:before {color: black;}#sk-container-id-2 div.sk-estimator:hover label.sk-toggleable__label-arrow:before {color: black;}#sk-container-id-2 div.sk-toggleable__content {max-height: 0;max-width: 0;overflow: hidden;text-align: left;background-color: #f0f8ff;}#sk-container-id-2 div.sk-toggleable__content pre {margin: 0.2em;color: black;border-radius: 0.25em;background-color: #f0f8ff;}#sk-container-id-2 input.sk-toggleable__control:checked~div.sk-toggleable__content {max-height: 200px;max-width: 100%;overflow: auto;}#sk-container-id-2 input.sk-toggleable__control:checked~label.sk-toggleable__label-arrow:before {content: \"▾\";}#sk-container-id-2 div.sk-estimator input.sk-toggleable__control:checked~label.sk-toggleable__label {background-color: #d4ebff;}#sk-container-id-2 div.sk-label input.sk-toggleable__control:checked~label.sk-toggleable__label {background-color: #d4ebff;}#sk-container-id-2 input.sk-hidden--visually {border: 0;clip: rect(1px 1px 1px 1px);clip: rect(1px, 1px, 1px, 1px);height: 1px;margin: -1px;overflow: hidden;padding: 0;position: absolute;width: 1px;}#sk-container-id-2 div.sk-estimator {font-family: monospace;background-color: #f0f8ff;border: 1px dotted black;border-radius: 0.25em;box-sizing: border-box;margin-bottom: 0.5em;}#sk-container-id-2 div.sk-estimator:hover {background-color: #d4ebff;}#sk-container-id-2 div.sk-parallel-item::after {content: \"\";width: 100%;border-bottom: 1px solid gray;flex-grow: 1;}#sk-container-id-2 div.sk-label:hover label.sk-toggleable__label {background-color: #d4ebff;}#sk-container-id-2 div.sk-serial::before {content: \"\";position: absolute;border-left: 1px solid gray;box-sizing: border-box;top: 0;bottom: 0;left: 50%;z-index: 0;}#sk-container-id-2 div.sk-serial {display: flex;flex-direction: column;align-items: center;background-color: white;padding-right: 0.2em;padding-left: 0.2em;position: relative;}#sk-container-id-2 div.sk-item {position: relative;z-index: 1;}#sk-container-id-2 div.sk-parallel {display: flex;align-items: stretch;justify-content: center;background-color: white;position: relative;}#sk-container-id-2 div.sk-item::before, #sk-container-id-2 div.sk-parallel-item::before {content: \"\";position: absolute;border-left: 1px solid gray;box-sizing: border-box;top: 0;bottom: 0;left: 50%;z-index: -1;}#sk-container-id-2 div.sk-parallel-item {display: flex;flex-direction: column;z-index: 1;position: relative;background-color: white;}#sk-container-id-2 div.sk-parallel-item:first-child::after {align-self: flex-end;width: 50%;}#sk-container-id-2 div.sk-parallel-item:last-child::after {align-self: flex-start;width: 50%;}#sk-container-id-2 div.sk-parallel-item:only-child::after {width: 0;}#sk-container-id-2 div.sk-dashed-wrapped {border: 1px dashed gray;margin: 0 0.4em 0.5em 0.4em;box-sizing: border-box;padding-bottom: 0.4em;background-color: white;}#sk-container-id-2 div.sk-label label {font-family: monospace;font-weight: bold;display: inline-block;line-height: 1.2em;}#sk-container-id-2 div.sk-label-container {text-align: center;}#sk-container-id-2 div.sk-container {/* jupyter's `normalize.less` sets `[hidden] { display: none; }` but bootstrap.min.css set `[hidden] { display: none !important; }` so we also need the `!important` here to be able to override the default hidden behavior on the sphinx rendered scikit-learn.org. See: https://github.com/scikit-learn/scikit-learn/issues/21755 */display: inline-block !important;position: relative;}#sk-container-id-2 div.sk-text-repr-fallback {display: none;}</style><div id=\"sk-container-id-2\" class=\"sk-top-container\"><div class=\"sk-text-repr-fallback\"><pre>TruncatedSVD(n_components=10, n_iter=100, random_state=0)</pre><b>In a Jupyter environment, please rerun this cell to show the HTML representation or trust the notebook. <br />On GitHub, the HTML representation is unable to render, please try loading this page with nbviewer.org.</b></div><div class=\"sk-container\" hidden><div class=\"sk-item\"><div class=\"sk-estimator sk-toggleable\"><input class=\"sk-toggleable__control sk-hidden--visually\" id=\"sk-estimator-id-2\" type=\"checkbox\" checked><label for=\"sk-estimator-id-2\" class=\"sk-toggleable__label sk-toggleable__label-arrow\">TruncatedSVD</label><div class=\"sk-toggleable__content\"><pre>TruncatedSVD(n_components=10, n_iter=100, random_state=0)</pre></div></div></div></div></div>"
            ],
            "text/plain": [
              "TruncatedSVD(n_components=10, n_iter=100, random_state=0)"
            ]
          },
          "execution_count": 48,
          "metadata": {},
          "output_type": "execute_result"
        }
      ],
      "source": [
        "svd_model = TruncatedSVD(\n",
        "        n_components=10,\n",
        "        algorithm='randomized',\n",
        "        n_iter=100,\n",
        "        random_state=0\n",
        "        )\n",
        "svd_model.fit(X_tfidf)"
      ]
    },
    {
      "cell_type": "code",
      "execution_count": null,
      "id": "f2200ae5",
      "metadata": {
        "id": "f2200ae5",
        "outputId": "d474dd25-b43e-4534-e39f-ac11d9ff597c"
      },
      "outputs": [
        {
          "name": "stdout",
          "output_type": "stream",
          "text": [
            "Tópico 0: radio fucking murder mike space movie food police sport public named mother died chris fuck\n",
            "Tópico 1: youtube intelligence data fundamental physic perspective versus goal artificial aspect universe scale dial mindset useful\n",
            "Tópico 2: espn mike chris billy football sport quarterback cody greg draft bowl miami playoff pirate player\n",
            "Tópico 3: dial wake instagram mentor mindset goal grow fucking shower essful mission fear youtube negative happiness\n",
            "Tópico 4: radio production missed dial included join visit museum mentor continued william century died various north\n",
            "Tópico 5: freedom trump civil violence election politics president political vote constitution government police speech leader united\n",
            "Tópico 6: quarterback draft brady playoff bowl football player season coach yard zone aaron jordan round ball\n",
            "Tópico 7: wake grateful drink coffee artificial guest intelligence food science quarterback green negative seriously sleep playoff\n",
            "Tópico 8: shower cold food focus eating january vote bathroom platform government design coffee south shift productive\n",
            "Tópico 9: prize prediction king draft challenge wake sunday code ship bowl brady food pirate hedge blood\n"
          ]
        },
        {
          "name": "stderr",
          "output_type": "stream",
          "text": [
            "C:\\Users\\hurom\\anaconda3\\lib\\site-packages\\sklearn\\utils\\deprecation.py:87: FutureWarning: Function get_feature_names is deprecated; get_feature_names is deprecated in 1.0 and will be removed in 1.2. Please use get_feature_names_out instead.\n",
            "  warnings.warn(msg, category=FutureWarning)\n"
          ]
        }
      ],
      "source": [
        "terms_lsa = tfidf.get_feature_names()\n",
        "for i, comp in enumerate(svd_model.components_):\n",
        "    terms_comp = zip(terms_lsa, comp)\n",
        "    sorted_terms = sorted(\n",
        "            terms_comp,\n",
        "            key= lambda x:x[1],\n",
        "            reverse=True\n",
        "            )[:15]\n",
        "    # Se imprimen los términos más importantes de cada tópico\n",
        "    print(\n",
        "            \"Tópico {}: {}\".format(\n",
        "                i, \" \".join(\n",
        "                    list(\n",
        "                        map(\n",
        "                            lambda x:x[0], sorted_terms\n",
        "                            )\n",
        "                        )\n",
        "                    )\n",
        "                )\n",
        "            )"
      ]
    },
    {
      "cell_type": "markdown",
      "id": "c46267cb",
      "metadata": {
        "id": "c46267cb"
      },
      "source": [
        "Los anteriores son los términos más importantes dentro de cada tópico que encontro el modelo de *LSA*, dentro de los cuales hay algunos con una temática evidente, por ejemplos los tópicos 1 y 2 corresponden a ciencia-tecnología y deportes respectivamente. Sin embargo, hay otros con temáticas muy generales, como lo son el tópico 7.\n",
        "\n",
        "Así mismo, es posible observar cuáles tópicos son predominantes en algún episodio específico de un podcast, como se muestra en la siguiente figura:"
      ]
    },
    {
      "cell_type": "code",
      "execution_count": null,
      "id": "c76aeb8e",
      "metadata": {
        "id": "c76aeb8e",
        "outputId": "7ef4103b-1926-4a83-d767-7d38d7cd6b6b"
      },
      "outputs": [
        {
          "data": {
            "image/png": "[encoded data removed]",
            "text/plain": [
              "<Figure size 432x288 with 1 Axes>"
            ]
          },
          "metadata": {
            "needs_background": "light"
          },
          "output_type": "display_data"
        }
      ],
      "source": [
        "X_topics_lsa = svd_model.transform(X_tfidf)\n",
        "fig, ax = plt.subplots()\n",
        "ax.bar([f\"Topic {i}\" for i in range(10)], np.abs(X_topics_lsa[0]))\n",
        "for tick in ax.get_xticklabels():\n",
        "    tick.set_rotation(90)"
      ]
    },
    {
      "cell_type": "markdown",
      "id": "a366ba19",
      "metadata": {
        "id": "a366ba19"
      },
      "source": [
        "De manera general, puede calcularse un promedio de la importancia de cada tópico en cada uno de los podcasts y visualizarlo como se hizo en el caso específico anterior, luego:"
      ]
    },
    {
      "cell_type": "code",
      "execution_count": null,
      "id": "34e402fa",
      "metadata": {
        "id": "34e402fa"
      },
      "outputs": [],
      "source": [
        "def mean_per_podcast(topics):\n",
        "    topic = []\n",
        "    science = []\n",
        "    sports = []\n",
        "    hf = []\n",
        "    history = []\n",
        "    crime = []\n",
        "    for i in range(10):\n",
        "        topic.append([j[i] for j in topics])\n",
        "        science.append(np.mean(topic[i][:60]))\n",
        "        sports.append(np.mean(topic[i][60:120]))\n",
        "        hf.append(np.mean(topic[i][120:180]))\n",
        "        history.append(np.mean(topic[i][180:240]))\n",
        "        crime.append(np.mean(topic[i][240:300]))\n",
        "    return science, sports, hf, history, crime"
      ]
    },
    {
      "cell_type": "code",
      "execution_count": null,
      "id": "2d9b37c9",
      "metadata": {
        "id": "2d9b37c9",
        "outputId": "8227e0d3-9977-40b4-a5ec-bc291b1d5625"
      },
      "outputs": [
        {
          "data": {
            "image/png": "[encoded data removed]",
            "text/plain": [
              "<Figure size 1152x1152 with 6 Axes>"
            ]
          },
          "metadata": {
            "needs_background": "light"
          },
          "output_type": "display_data"
        }
      ],
      "source": [
        "science, sports, hf, history, crime = mean_per_podcast(np.abs(X_topics_lsa))\n",
        "\n",
        "fig1, ax = plt.subplots(3, 2, figsize=(16,16))\n",
        "ax[0][0].bar([f\"Topic {i}\" for i in range(10)], science)\n",
        "ax[0][1].bar([f\"Topic {i}\" for i in range(10)], sports)\n",
        "ax[1][0].bar([f\"Topic {i}\" for i in range(10)], hf)\n",
        "ax[1][1].bar([f\"Topic {i}\" for i in range(10)], history)\n",
        "ax[2][0].bar([f\"Topic {i}\" for i in range(10)], crime)\n",
        "ax[0][0].set_title('Importancia de cada tópico en podcast de ciencia');\n",
        "ax[0][1].set_title('Importancia de cada tópico en podcast de deportes');\n",
        "ax[1][0].set_title('Importancia de cada tópico en podcast de salud y ejercicio');\n",
        "ax[1][1].set_title('Importancia de cada tópico en podcast de historia');\n",
        "ax[2][0].set_title('Importancia de cada tópico en podcast de crimen');"
      ]
    },
    {
      "cell_type": "markdown",
      "id": "e7d27ab0",
      "metadata": {
        "id": "e7d27ab0"
      },
      "source": [
        "Aparentemente el tópico 0 es el más importante en todos los podcasts estudiados, lo que resulta un comportamiento extraño luego de haber visto modelos de agrupamiento que dejaban ver claras diferencias entre cada uno de estos. Veamos ahora otro de los modelos de tópicos más usados."
      ]
    },
    {
      "cell_type": "markdown",
      "id": "7b3730dd",
      "metadata": {
        "id": "7b3730dd"
      },
      "source": [
        "#### Latent Dirichlet Allocation\n",
        "\n",
        "Conocido por sus siglas \"LDA\", este modelo también genera el número de tópicos que uno indique sobre el texto proporcionado. Para esto, utilizaremos **`gensim.models.LdaMulticore`**:"
      ]
    },
    {
      "cell_type": "code",
      "execution_count": null,
      "id": "7827fae1",
      "metadata": {
        "id": "7827fae1"
      },
      "outputs": [],
      "source": [
        "# Definición del diccionario y corpus para entrenar el modelo\n",
        "id2word = corpora.Dictionary(text)\n",
        "corpus = [id2word.doc2bow(i) for i in text]"
      ]
    },
    {
      "cell_type": "code",
      "execution_count": null,
      "id": "1d8b2d6a",
      "metadata": {
        "id": "1d8b2d6a"
      },
      "outputs": [],
      "source": [
        "lda = gensim.models.LdaMulticore(corpus=corpus,\n",
        "                                 id2word=id2word,\n",
        "                                 num_topics=10, \n",
        "                                 random_state=100,\n",
        "                                 passes=10,\n",
        "                                 per_word_topics=True)"
      ]
    },
    {
      "cell_type": "code",
      "execution_count": null,
      "id": "d89ba989",
      "metadata": {
        "id": "d89ba989",
        "outputId": "a1acb2b2-e781-44d5-ef7b-2b4bd9cbf92f"
      },
      "outputs": [
        {
          "name": "stdout",
          "output_type": "stream",
          "text": [
            "[(0,\n",
            "  '0.008*\"also\" + 0.008*\"people\" + 0.007*\"like\" + 0.007*\"really\" + '\n",
            "  '0.006*\"time\" + 0.005*\"would\" + 0.005*\"podcast\" + 0.004*\"year\" + '\n",
            "  '0.004*\"radio\" + 0.004*\"history\"'),\n",
            " (1,\n",
            "  '0.037*\"like\" + 0.015*\"know\" + 0.014*\"yeah\" + 0.010*\"right\" + 0.009*\"going\" '\n",
            "  '+ 0.007*\"think\" + 0.007*\"that\" + 0.006*\"thing\" + 0.006*\"time\" + '\n",
            "  '0.006*\"people\"'),\n",
            " (2,\n",
            "  '0.022*\"going\" + 0.020*\"like\" + 0.019*\"know\" + 0.018*\"want\" + 0.016*\"thing\" '\n",
            "  '+ 0.014*\"people\" + 0.013*\"right\" + 0.011*\"life\" + 0.010*\"make\" + '\n",
            "  '0.008*\"time\"'),\n",
            " (3,\n",
            "  '0.016*\"know\" + 0.012*\"like\" + 0.009*\"protein\" + 0.006*\"also\" + '\n",
            "  '0.006*\"knitting\" + 0.005*\"waffle\" + 0.005*\"right\" + 0.005*\"really\" + '\n",
            "  '0.004*\"would\" + 0.004*\"jewish\"'),\n",
            " (4,\n",
            "  '0.013*\"like\" + 0.011*\"people\" + 0.011*\"know\" + 0.010*\"going\" + '\n",
            "  '0.008*\"right\" + 0.008*\"think\" + 0.007*\"want\" + 0.007*\"would\" + '\n",
            "  '0.006*\"thing\" + 0.005*\"time\"'),\n",
            " (5,\n",
            "  '0.013*\"know\" + 0.012*\"basically\" + 0.009*\"like\" + 0.007*\"gene\" + '\n",
            "  '0.006*\"sort\" + 0.006*\"test\" + 0.006*\"cell\" + 0.005*\"people\" + 0.004*\"thing\" '\n",
            "  '+ 0.004*\"human\"'),\n",
            " (6,\n",
            "  '0.041*\"like\" + 0.024*\"know\" + 0.016*\"think\" + 0.014*\"people\" + '\n",
            "  '0.013*\"thing\" + 0.009*\"right\" + 0.009*\"yeah\" + 0.008*\"really\" + '\n",
            "  '0.008*\"kind\" + 0.007*\"mean\"'),\n",
            " (7,\n",
            "  '0.029*\"know\" + 0.015*\"like\" + 0.014*\"thing\" + 0.008*\"going\" + 0.008*\"right\" '\n",
            "  '+ 0.007*\"think\" + 0.007*\"time\" + 0.007*\"mean\" + 0.006*\"kind\" + '\n",
            "  '0.006*\"would\"'),\n",
            " (8,\n",
            "  '0.007*\"really\" + 0.007*\"like\" + 0.007*\"also\" + 0.006*\"people\" + '\n",
            "  '0.006*\"language\" + 0.006*\"time\" + 0.005*\"podcast\" + 0.005*\"would\" + '\n",
            "  '0.005*\"esperanto\" + 0.004*\"year\"'),\n",
            " (9,\n",
            "  '0.012*\"like\" + 0.008*\"know\" + 0.007*\"going\" + 0.006*\"would\" + '\n",
            "  '0.006*\"really\" + 0.006*\"time\" + 0.006*\"show\" + 0.006*\"people\" + '\n",
            "  '0.005*\"think\" + 0.005*\"want\"')]\n"
          ]
        }
      ],
      "source": [
        "pprint(lda.print_topics())"
      ]
    },
    {
      "cell_type": "markdown",
      "id": "6fb2db24",
      "metadata": {
        "id": "6fb2db24"
      },
      "source": [
        "A continuación se presentarán diferentes métricas para evaluar los modelos implementados."
      ]
    }
  ],
  "metadata": {
    "kernelspec": {
      "display_name": "Python 3",
      "language": "python",
      "name": "python3"
    },
    "language_info": {
      "codemirror_mode": {
        "name": "ipython",
        "version": 3
      },
      "file_extension": ".py",
      "mimetype": "text/x-python",
      "name": "python",
      "nbconvert_exporter": "python",
      "pygments_lexer": "ipython3",
      "version": "3.8.8"
    },
    "colab": {
      "provenance": [],
      "include_colab_link": true
    }
  },
  "nbformat": 4,
  "nbformat_minor": 5
}